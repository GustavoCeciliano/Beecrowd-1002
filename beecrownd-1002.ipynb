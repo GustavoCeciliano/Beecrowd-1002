{
 "cells": [
  {
   "cell_type": "code",
   "execution_count": 2,
   "metadata": {},
   "outputs": [
    {
     "name": "stdout",
     "output_type": "stream",
     "text": [
      "A=314.1590\n"
     ]
    }
   ],
   "source": [
    "'''Utilizando a formula n * (raio ** 2) dentro da variável \"area\" para calcular a área de uma circunferência;\n",
    "\n",
    "Para a impressão do resultado foi utilizado \"A={:.4f}\", sendo os dois pontos para indicar a opção de formatação \n",
    "do valor da variével na posição marcada pelas chaves, o \".4\" indicando o número de casas decimais e a letra \"f\" \n",
    "indicando que o valor a ser impresso se trata de um valor de ponto flutuante;\n",
    "\n",
    "E \".format(area)\" é um método de string que substitui o espaço reservado \"{}\" pelo valor da variável \"area\". '''\n",
    "\n",
    "n = 3.14159\n",
    "raio = float(input())\n",
    "\n",
    "area = n * (raio ** 2)\n",
    "\n",
    "print(\"A={:.4f}\".format(area))\n"
   ]
  }
 ],
 "metadata": {
  "kernelspec": {
   "display_name": "base",
   "language": "python",
   "name": "python3"
  },
  "language_info": {
   "codemirror_mode": {
    "name": "ipython",
    "version": 3
   },
   "file_extension": ".py",
   "mimetype": "text/x-python",
   "name": "python",
   "nbconvert_exporter": "python",
   "pygments_lexer": "ipython3",
   "version": "3.10.9"
  }
 },
 "nbformat": 4,
 "nbformat_minor": 5
}
